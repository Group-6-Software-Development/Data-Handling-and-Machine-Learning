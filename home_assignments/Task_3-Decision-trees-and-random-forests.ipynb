{
 "cells": [
  {
   "metadata": {},
   "cell_type": "markdown",
   "source": [
    "# Decision trees and random forests\n",
    "\n",
    "### Understanding decision trees and random forests\n",
    "\n",
    "In this assignment, we will be working towards creating a transparent, whitebox classification model by leveraging decision trees and get familiar with improving our classification models performance through the use of random forests.\n",
    "\n",
    "#### Decision trees\n",
    "Decision trees goal is to predict the value of a target variable by learning simple decision based rules extracted from a given dataset.\n",
    "The strength of a decision tree comes from ease of understanding and interpretation of the decision paths in a tree.\n",
    "The decision tree also has little need for data preparation, where others need data to be normalized or dummy variables need to be created or null values dropped.\n",
    "One of the drawbacks of the decision tree is that there can be many nearly  as good branching criteria and the best of the might be chosen with a small margin. However there is a solution to this problem which we will introduce on the next section.\n",
    "\n",
    "[Course Github](https://github.com/vesavvo/dkko/blob/main/Random_forests.ipynb)\n",
    "\n",
    "[scikit-learn.org](https://scikit-learn.org/stable/modules/tree.html)\n",
    "\n",
    "#### Random forests\n",
    "Random forests are formed by creating a number of decision trees during the training phase.\n",
    "A random forest is a collection of a user-set amount of decision trees with varying classification methods. These decision trees are to vote on the classification outcome for a given observation\n",
    "\n",
    "[Course Github](https://github.com/vesavvo/dkko/blob/main/Random_forests.ipynb)\n",
    "\n",
    "#### Our aim\n",
    "With these tools and the [dataset](https://archive.ics.uci.edu/dataset/327/phishing+websites) from UC Irvine machine learning repository we aim to make a classifier that is able to distinguish between phishing sites and legitimate sites with fair accuracy."
   ],
   "id": "f9764c33a74967c8"
  },
  {
   "metadata": {},
   "cell_type": "markdown",
   "source": [
    "## 2. Understanding the phishing technique\n",
    "The dataset has 11055 instances each with 30 features and one target, which will be either -1 (not a phishing site) and 1(phishing site).\n",
    "When constructing the decision trees we will be able to take a look inside the decision process within a given tree. \n"
   ],
   "id": "f3d165bb4b877deb"
  },
  {
   "metadata": {},
   "cell_type": "code",
   "outputs": [],
   "execution_count": null,
   "source": "",
   "id": "4bc76bc184d7cca9"
  }
 ],
 "metadata": {
  "kernelspec": {
   "display_name": "Python 3",
   "language": "python",
   "name": "python3"
  },
  "language_info": {
   "codemirror_mode": {
    "name": "ipython",
    "version": 2
   },
   "file_extension": ".py",
   "mimetype": "text/x-python",
   "name": "python",
   "nbconvert_exporter": "python",
   "pygments_lexer": "ipython2",
   "version": "2.7.6"
  }
 },
 "nbformat": 4,
 "nbformat_minor": 5
}
