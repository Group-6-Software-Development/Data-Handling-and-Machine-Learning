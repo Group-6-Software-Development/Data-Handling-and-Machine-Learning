{
 "cells": [
  {
   "metadata": {},
   "cell_type": "markdown",
   "source": [
    "# Task 4 - Linear and Logistic Regression\n",
    "\n",
    "### 1. Introduction & Objectives\n",
    "\n",
    "#TODO - Add introduction and objectives"
   ],
   "id": "46f0bad3790b021"
  },
  {
   "metadata": {},
   "cell_type": "markdown",
   "source": [
    "### 2. Understanding the Data\n",
    "\n",
    "The dataset we will be using has 414 instances, each with 6 features and 1 target variable. \n",
    "\n",
    "The features are as follows:\n",
    "- X1=the transaction date (for example, 2013.250=2013 March, 2013.500=2013 June, etc.)\n",
    "- X2=the house age (unit: year)\n",
    "- X3=the distance to the nearest MRT station (unit: meter)\n",
    "- X4=the number of convenience stores in the living circle on foot (integer)\n",
    "- X5=the geographic coordinate, latitude. (unit: degree)\n",
    "- X6=the geographic coordinate, longitude. (unit: degree)\n",
    "\n",
    "#TODO - Add more information about the dataset if needed\n",
    "\n",
    "### 2.1 Importing the Required Libraries and Loading the Dataset\n",
    "\n",
    "Let's start by importing the required libraries and loading the dataset from the UCI repository."
   ],
   "id": "d1646cb9e2bc2df5"
  },
  {
   "cell_type": "code",
   "id": "initial_id",
   "metadata": {
    "collapsed": true,
    "ExecuteTime": {
     "end_time": "2024-09-13T00:35:51.453679Z",
     "start_time": "2024-09-13T00:35:51.450161Z"
    }
   },
   "source": [
    "# Importing the required libraries\n",
    "import numpy as np\n",
    "import pandas as pd\n",
    "import matplotlib.pyplot as plt\n",
    "from ucimlrepo import fetch_ucirepo\n",
    "from sklearn.metrics import mean_absolute_error\n",
    "from sklearn.linear_model import LinearRegression"
   ],
   "outputs": [],
   "execution_count": 29
  },
  {
   "metadata": {
    "ExecuteTime": {
     "end_time": "2024-09-13T00:35:53.750867Z",
     "start_time": "2024-09-13T00:35:51.454687Z"
    }
   },
   "cell_type": "code",
   "source": [
    "# Load the dataset\n",
    "data = fetch_ucirepo(id=477)\n",
    "\n",
    "# Data (as a pandas DataFrames)\n",
    "features = data.data.features\n",
    "targets = data.data.targets\n",
    "\n",
    "# We need to make copies of the data, as we will be modifying them\n",
    "features = features.copy()\n",
    "targets = targets.copy()"
   ],
   "id": "5b35bd9d6bc2ebab",
   "outputs": [],
   "execution_count": 30
  },
  {
   "metadata": {},
   "cell_type": "markdown",
   "source": [
    "### 2.2 Summary of variables\n",
    "\n",
    "Let's check the first few rows of the dataset so we can understand the variables and their types."
   ],
   "id": "affd23e8bd0d6184"
  },
  {
   "metadata": {
    "ExecuteTime": {
     "end_time": "2024-09-13T00:35:53.759046Z",
     "start_time": "2024-09-13T00:35:53.751875Z"
    }
   },
   "cell_type": "code",
   "source": [
    "print(\"Features:\")\n",
    "features.head()"
   ],
   "id": "ee7e55da62c25766",
   "outputs": [
    {
     "name": "stdout",
     "output_type": "stream",
     "text": [
      "Features:\n"
     ]
    },
    {
     "data": {
      "text/plain": [
       "   X1 transaction date  X2 house age  X3 distance to the nearest MRT station  \\\n",
       "0             2012.917          32.0                                84.87882   \n",
       "1             2012.917          19.5                               306.59470   \n",
       "2             2013.583          13.3                               561.98450   \n",
       "3             2013.500          13.3                               561.98450   \n",
       "4             2012.833           5.0                               390.56840   \n",
       "\n",
       "   X4 number of convenience stores  X5 latitude  X6 longitude  \n",
       "0                               10     24.98298     121.54024  \n",
       "1                                9     24.98034     121.53951  \n",
       "2                                5     24.98746     121.54391  \n",
       "3                                5     24.98746     121.54391  \n",
       "4                                5     24.97937     121.54245  "
      ],
      "text/html": [
       "<div>\n",
       "<style scoped>\n",
       "    .dataframe tbody tr th:only-of-type {\n",
       "        vertical-align: middle;\n",
       "    }\n",
       "\n",
       "    .dataframe tbody tr th {\n",
       "        vertical-align: top;\n",
       "    }\n",
       "\n",
       "    .dataframe thead th {\n",
       "        text-align: right;\n",
       "    }\n",
       "</style>\n",
       "<table border=\"1\" class=\"dataframe\">\n",
       "  <thead>\n",
       "    <tr style=\"text-align: right;\">\n",
       "      <th></th>\n",
       "      <th>X1 transaction date</th>\n",
       "      <th>X2 house age</th>\n",
       "      <th>X3 distance to the nearest MRT station</th>\n",
       "      <th>X4 number of convenience stores</th>\n",
       "      <th>X5 latitude</th>\n",
       "      <th>X6 longitude</th>\n",
       "    </tr>\n",
       "  </thead>\n",
       "  <tbody>\n",
       "    <tr>\n",
       "      <th>0</th>\n",
       "      <td>2012.917</td>\n",
       "      <td>32.0</td>\n",
       "      <td>84.87882</td>\n",
       "      <td>10</td>\n",
       "      <td>24.98298</td>\n",
       "      <td>121.54024</td>\n",
       "    </tr>\n",
       "    <tr>\n",
       "      <th>1</th>\n",
       "      <td>2012.917</td>\n",
       "      <td>19.5</td>\n",
       "      <td>306.59470</td>\n",
       "      <td>9</td>\n",
       "      <td>24.98034</td>\n",
       "      <td>121.53951</td>\n",
       "    </tr>\n",
       "    <tr>\n",
       "      <th>2</th>\n",
       "      <td>2013.583</td>\n",
       "      <td>13.3</td>\n",
       "      <td>561.98450</td>\n",
       "      <td>5</td>\n",
       "      <td>24.98746</td>\n",
       "      <td>121.54391</td>\n",
       "    </tr>\n",
       "    <tr>\n",
       "      <th>3</th>\n",
       "      <td>2013.500</td>\n",
       "      <td>13.3</td>\n",
       "      <td>561.98450</td>\n",
       "      <td>5</td>\n",
       "      <td>24.98746</td>\n",
       "      <td>121.54391</td>\n",
       "    </tr>\n",
       "    <tr>\n",
       "      <th>4</th>\n",
       "      <td>2012.833</td>\n",
       "      <td>5.0</td>\n",
       "      <td>390.56840</td>\n",
       "      <td>5</td>\n",
       "      <td>24.97937</td>\n",
       "      <td>121.54245</td>\n",
       "    </tr>\n",
       "  </tbody>\n",
       "</table>\n",
       "</div>"
      ]
     },
     "execution_count": 31,
     "metadata": {},
     "output_type": "execute_result"
    }
   ],
   "execution_count": 31
  },
  {
   "metadata": {
    "ExecuteTime": {
     "end_time": "2024-09-13T00:35:53.765664Z",
     "start_time": "2024-09-13T00:35:53.760052Z"
    }
   },
   "cell_type": "code",
   "source": [
    "print(\"Targets:\")\n",
    "targets.head()"
   ],
   "id": "91c397ada87e28a2",
   "outputs": [
    {
     "name": "stdout",
     "output_type": "stream",
     "text": [
      "Targets:\n"
     ]
    },
    {
     "data": {
      "text/plain": [
       "   Y house price of unit area\n",
       "0                        37.9\n",
       "1                        42.2\n",
       "2                        47.3\n",
       "3                        54.8\n",
       "4                        43.1"
      ],
      "text/html": [
       "<div>\n",
       "<style scoped>\n",
       "    .dataframe tbody tr th:only-of-type {\n",
       "        vertical-align: middle;\n",
       "    }\n",
       "\n",
       "    .dataframe tbody tr th {\n",
       "        vertical-align: top;\n",
       "    }\n",
       "\n",
       "    .dataframe thead th {\n",
       "        text-align: right;\n",
       "    }\n",
       "</style>\n",
       "<table border=\"1\" class=\"dataframe\">\n",
       "  <thead>\n",
       "    <tr style=\"text-align: right;\">\n",
       "      <th></th>\n",
       "      <th>Y house price of unit area</th>\n",
       "    </tr>\n",
       "  </thead>\n",
       "  <tbody>\n",
       "    <tr>\n",
       "      <th>0</th>\n",
       "      <td>37.9</td>\n",
       "    </tr>\n",
       "    <tr>\n",
       "      <th>1</th>\n",
       "      <td>42.2</td>\n",
       "    </tr>\n",
       "    <tr>\n",
       "      <th>2</th>\n",
       "      <td>47.3</td>\n",
       "    </tr>\n",
       "    <tr>\n",
       "      <th>3</th>\n",
       "      <td>54.8</td>\n",
       "    </tr>\n",
       "    <tr>\n",
       "      <th>4</th>\n",
       "      <td>43.1</td>\n",
       "    </tr>\n",
       "  </tbody>\n",
       "</table>\n",
       "</div>"
      ]
     },
     "execution_count": 32,
     "metadata": {},
     "output_type": "execute_result"
    }
   ],
   "execution_count": 32
  },
  {
   "metadata": {},
   "cell_type": "markdown",
   "source": [
    "### 2.3 Data Preprocessing\n",
    "\n",
    "According to the UC Irvine repository, the dataset does not contain any missing values. However, we will still check for missing values and perform any necessary preprocessing steps."
   ],
   "id": "58ff9fff21c12553"
  },
  {
   "metadata": {
    "ExecuteTime": {
     "end_time": "2024-09-13T00:35:53.770829Z",
     "start_time": "2024-09-13T00:35:53.766670Z"
    }
   },
   "cell_type": "code",
   "source": [
    "# Check for missing values\n",
    "missing_values = features.isnull().sum()\n",
    "missing_values"
   ],
   "id": "7e6b99adc903ab31",
   "outputs": [
    {
     "data": {
      "text/plain": [
       "X1 transaction date                       0\n",
       "X2 house age                              0\n",
       "X3 distance to the nearest MRT station    0\n",
       "X4 number of convenience stores           0\n",
       "X5 latitude                               0\n",
       "X6 longitude                              0\n",
       "dtype: int64"
      ]
     },
     "execution_count": 33,
     "metadata": {},
     "output_type": "execute_result"
    }
   ],
   "execution_count": 33
  },
  {
   "metadata": {},
   "cell_type": "markdown",
   "source": "As we can see, the dataset does not contain any missing values. Therefore, we can proceed with the next steps.",
   "id": "6450eda50c9e5354"
  },
  {
   "metadata": {},
   "cell_type": "markdown",
   "source": [
    "### 3. Data preparation\n",
    "\n",
    "#### 3.1 Normalizing the target variable\n",
    "\n",
    "We will normalize the target variable, by calculating the mean of all the target values, and then mapping the target values to binary, using the following logic:\n",
    "- 1: if the target value is greater than the mean\n",
    "- 0: if the target value is less than or equal to the mean"
   ],
   "id": "53a1b25e7778ce67"
  },
  {
   "metadata": {
    "ExecuteTime": {
     "end_time": "2024-09-13T00:38:40.315596Z",
     "start_time": "2024-09-13T00:38:40.310187Z"
    }
   },
   "cell_type": "code",
   "source": [
    "# Normalizing the target variable\n",
    "mean_target = targets.mean()\n",
    "\n",
    "# Mapping the target values\n",
    "targets = (targets > mean_target)\n",
    "targets = targets.astype(int)\n",
    "\n",
    "# Display the first few rows of the target variable\n",
    "targets.head()"
   ],
   "id": "32ac3b9d2cd45ac2",
   "outputs": [
    {
     "data": {
      "text/plain": [
       "   Y house price of unit area\n",
       "0                           0\n",
       "1                           1\n",
       "2                           1\n",
       "3                           1\n",
       "4                           1"
      ],
      "text/html": [
       "<div>\n",
       "<style scoped>\n",
       "    .dataframe tbody tr th:only-of-type {\n",
       "        vertical-align: middle;\n",
       "    }\n",
       "\n",
       "    .dataframe tbody tr th {\n",
       "        vertical-align: top;\n",
       "    }\n",
       "\n",
       "    .dataframe thead th {\n",
       "        text-align: right;\n",
       "    }\n",
       "</style>\n",
       "<table border=\"1\" class=\"dataframe\">\n",
       "  <thead>\n",
       "    <tr style=\"text-align: right;\">\n",
       "      <th></th>\n",
       "      <th>Y house price of unit area</th>\n",
       "    </tr>\n",
       "  </thead>\n",
       "  <tbody>\n",
       "    <tr>\n",
       "      <th>0</th>\n",
       "      <td>0</td>\n",
       "    </tr>\n",
       "    <tr>\n",
       "      <th>1</th>\n",
       "      <td>1</td>\n",
       "    </tr>\n",
       "    <tr>\n",
       "      <th>2</th>\n",
       "      <td>1</td>\n",
       "    </tr>\n",
       "    <tr>\n",
       "      <th>3</th>\n",
       "      <td>1</td>\n",
       "    </tr>\n",
       "    <tr>\n",
       "      <th>4</th>\n",
       "      <td>1</td>\n",
       "    </tr>\n",
       "  </tbody>\n",
       "</table>\n",
       "</div>"
      ]
     },
     "execution_count": 40,
     "metadata": {},
     "output_type": "execute_result"
    }
   ],
   "execution_count": 40
  },
  {
   "metadata": {
    "ExecuteTime": {
     "end_time": "2024-09-13T00:35:53.942384Z",
     "start_time": "2024-09-13T00:35:53.942384Z"
    }
   },
   "cell_type": "code",
   "source": "",
   "id": "76c5ecd8a66254c7",
   "outputs": [],
   "execution_count": null
  }
 ],
 "metadata": {
  "kernelspec": {
   "display_name": "Python 3",
   "language": "python",
   "name": "python3"
  },
  "language_info": {
   "codemirror_mode": {
    "name": "ipython",
    "version": 2
   },
   "file_extension": ".py",
   "mimetype": "text/x-python",
   "name": "python",
   "nbconvert_exporter": "python",
   "pygments_lexer": "ipython2",
   "version": "2.7.6"
  }
 },
 "nbformat": 4,
 "nbformat_minor": 5
}
