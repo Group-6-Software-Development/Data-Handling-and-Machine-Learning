{
 "cells": [
  {
   "metadata": {},
   "cell_type": "markdown",
   "source": [
    "# Assignment: kNN classifier\n",
    "\n",
    "## Objectives\n",
    "\n",
    "1. learn usage of k-nearest neighbours algorithm for classification problems\n",
    "2. learn to evaluate the performance of a classifier\n",
    "3. Learn to use CRISP-DM process model"
   ],
   "id": "3522ad6503b8c773"
  },
  {
   "cell_type": "code",
   "execution_count": null,
   "id": "initial_id",
   "metadata": {
    "collapsed": true
   },
   "outputs": [],
   "source": ""
  }
 ],
 "metadata": {
  "kernelspec": {
   "display_name": "Python 3",
   "language": "python",
   "name": "python3"
  },
  "language_info": {
   "codemirror_mode": {
    "name": "ipython",
    "version": 2
   },
   "file_extension": ".py",
   "mimetype": "text/x-python",
   "name": "python",
   "nbconvert_exporter": "python",
   "pygments_lexer": "ipython2",
   "version": "2.7.6"
  }
 },
 "nbformat": 4,
 "nbformat_minor": 5
}
