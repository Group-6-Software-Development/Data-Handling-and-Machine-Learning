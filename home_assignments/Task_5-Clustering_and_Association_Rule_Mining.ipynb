{
 "cells": [
  {
   "metadata": {},
   "cell_type": "markdown",
   "source": "# Task 5: Clustering and Association Rule Mining",
   "id": "af6fdc9789378e09"
  },
  {
   "metadata": {},
   "cell_type": "markdown",
   "source": [
    "### 1. Introduction & Objectives\n",
    "\n",
    "TODO - Write introduction and objectives"
   ],
   "id": "a48e6cef70d31ca1"
  },
  {
   "metadata": {},
   "cell_type": "markdown",
   "source": [
    "### 2. Understanding the Data\n",
    "\n",
    "TODO - Write data understanding"
   ],
   "id": "52d6efc7e75e3243"
  },
  {
   "metadata": {},
   "cell_type": "markdown",
   "source": [
    "#### 2.1. Importing the Required Libraries and Loading the Datasets\n",
    "\n",
    "Let's start by importing the required libraries and loading the datasets."
   ],
   "id": "6ed520ecc292a6d4"
  },
  {
   "cell_type": "code",
   "execution_count": null,
   "id": "initial_id",
   "metadata": {
    "collapsed": true
   },
   "outputs": [],
   "source": [
    ""
   ]
  }
 ],
 "metadata": {
  "kernelspec": {
   "display_name": "Python 3",
   "language": "python",
   "name": "python3"
  },
  "language_info": {
   "codemirror_mode": {
    "name": "ipython",
    "version": 2
   },
   "file_extension": ".py",
   "mimetype": "text/x-python",
   "name": "python",
   "nbconvert_exporter": "python",
   "pygments_lexer": "ipython2",
   "version": "2.7.6"
  }
 },
 "nbformat": 4,
 "nbformat_minor": 5
}
