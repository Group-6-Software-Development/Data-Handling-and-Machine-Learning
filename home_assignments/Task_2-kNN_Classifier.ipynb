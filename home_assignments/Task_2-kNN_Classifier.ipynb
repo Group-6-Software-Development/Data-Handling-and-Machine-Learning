{
 "cells": [
  {
   "metadata": {},
   "cell_type": "markdown",
   "source": "# Task 2: kNN Classifier",
   "id": "5196f2c9e7d2ea1c"
  },
  {
   "metadata": {},
   "cell_type": "markdown",
   "source": [
    "### 1. Introduction & Objectives\n",
    "\n",
    "In this task, we will process data and use a kNN Classifier on Breast Cancer Wisconsin (Diagnostic) Data Set. \n",
    "\n",
    "The dataset contains 569 instances of cancer biopsies, each with 30 features. The features are computed from a digitized image of a fine needle aspirate (FNA) of a breast mass. They describe characteristics of the cell nuclei present in the image. The dataset is available at the UCI Machine Learning Repository.\n",
    "\n",
    "Our aim in this assignment is to learn about the usage of kNN algorithm with the aforementioned dataset, byt training our own classifier model by splitting the available data in to a training set  for a classifier, and using the rest of the data to test our trained classifier model. We will measure the classifiers accuracy, precision and recall by giving it a test group where we compare the verified data to the classifiers predictions.\n",
    "\n",
    "The objectives of the assignment are:\n",
    "1. To learn to use the kNN algorithm for classification problems\n",
    "2. To learn to evaluate the performance of a classifier."
   ],
   "id": "52c024a7a4edc15a"
  },
  {
   "metadata": {},
   "cell_type": "markdown",
   "source": [
    "### 2. Data Understanding\n",
    "\n",
    "The real data used in this assignment has been imported as pandas dataframes from the [UC Irvine machine learning repository](https://archive.ics.uci.edu/dataset/17/breast+cancer+wisconsin+diagnostic). The data features  569 instances of varying measurements and classifications for malignant and benign tumors with multiple measurements across 3 separating planes.  \n",
    "\n",
    "Credit for the data goes to the creators:\n",
    "* William Wolberg\n",
    "* Olvi Mangasarian\n",
    "* Nick Street\n",
    "* W. Street\n",
    "\n",
    "#### 2.1. Importing the Libraries and Loading the Dataset\n",
    "\n",
    "Let's start by importing the necessary libraries for loading the dataset."
   ],
   "id": "678b823c21c3dafa"
  },
  {
   "metadata": {
    "ExecuteTime": {
     "end_time": "2024-09-04T15:55:06.909804Z",
     "start_time": "2024-09-04T15:55:06.906255Z"
    }
   },
   "cell_type": "code",
   "source": [
    "import pandas as pd\n",
    "from ucimlrepo import fetch_ucirepo"
   ],
   "id": "3362bbede3c5e117",
   "outputs": [],
   "execution_count": 92
  },
  {
   "metadata": {
    "ExecuteTime": {
     "end_time": "2024-09-04T15:55:09.017672Z",
     "start_time": "2024-09-04T15:55:06.946899Z"
    }
   },
   "cell_type": "code",
   "source": [
    "# Load the dataset\n",
    "data = fetch_ucirepo(id=17)\n",
    "\n",
    "# Data (as pandas dataframes)\n",
    "features = data.data.features\n",
    "targets = data.data.targets\n",
    "\n",
    "features = features.copy()\n",
    "targets = targets.copy()"
   ],
   "id": "a088dbfc113d1cd",
   "outputs": [],
   "execution_count": 93
  },
  {
   "metadata": {},
   "cell_type": "markdown",
   "source": [
    "#### 2.2. Summary of variables\n",
    "\n",
    "Let's check the first few rows of the dataset to understand the variables and their types."
   ],
   "id": "6479540a2772bf04"
  },
  {
   "metadata": {
    "ExecuteTime": {
     "end_time": "2024-09-04T15:55:09.033344Z",
     "start_time": "2024-09-04T15:55:09.018678Z"
    }
   },
   "cell_type": "code",
   "source": [
    "print(\"Features:\")\n",
    "features.head()"
   ],
   "id": "c2eec0e0b1dc4b6d",
   "outputs": [
    {
     "name": "stdout",
     "output_type": "stream",
     "text": [
      "Features:\n"
     ]
    },
    {
     "data": {
      "text/plain": [
       "   radius1  texture1  perimeter1   area1  smoothness1  compactness1  \\\n",
       "0    17.99     10.38      122.80  1001.0      0.11840       0.27760   \n",
       "1    20.57     17.77      132.90  1326.0      0.08474       0.07864   \n",
       "2    19.69     21.25      130.00  1203.0      0.10960       0.15990   \n",
       "3    11.42     20.38       77.58   386.1      0.14250       0.28390   \n",
       "4    20.29     14.34      135.10  1297.0      0.10030       0.13280   \n",
       "\n",
       "   concavity1  concave_points1  symmetry1  fractal_dimension1  ...  radius3  \\\n",
       "0      0.3001          0.14710     0.2419             0.07871  ...    25.38   \n",
       "1      0.0869          0.07017     0.1812             0.05667  ...    24.99   \n",
       "2      0.1974          0.12790     0.2069             0.05999  ...    23.57   \n",
       "3      0.2414          0.10520     0.2597             0.09744  ...    14.91   \n",
       "4      0.1980          0.10430     0.1809             0.05883  ...    22.54   \n",
       "\n",
       "   texture3  perimeter3   area3  smoothness3  compactness3  concavity3  \\\n",
       "0     17.33      184.60  2019.0       0.1622        0.6656      0.7119   \n",
       "1     23.41      158.80  1956.0       0.1238        0.1866      0.2416   \n",
       "2     25.53      152.50  1709.0       0.1444        0.4245      0.4504   \n",
       "3     26.50       98.87   567.7       0.2098        0.8663      0.6869   \n",
       "4     16.67      152.20  1575.0       0.1374        0.2050      0.4000   \n",
       "\n",
       "   concave_points3  symmetry3  fractal_dimension3  \n",
       "0           0.2654     0.4601             0.11890  \n",
       "1           0.1860     0.2750             0.08902  \n",
       "2           0.2430     0.3613             0.08758  \n",
       "3           0.2575     0.6638             0.17300  \n",
       "4           0.1625     0.2364             0.07678  \n",
       "\n",
       "[5 rows x 30 columns]"
      ],
      "text/html": [
       "<div>\n",
       "<style scoped>\n",
       "    .dataframe tbody tr th:only-of-type {\n",
       "        vertical-align: middle;\n",
       "    }\n",
       "\n",
       "    .dataframe tbody tr th {\n",
       "        vertical-align: top;\n",
       "    }\n",
       "\n",
       "    .dataframe thead th {\n",
       "        text-align: right;\n",
       "    }\n",
       "</style>\n",
       "<table border=\"1\" class=\"dataframe\">\n",
       "  <thead>\n",
       "    <tr style=\"text-align: right;\">\n",
       "      <th></th>\n",
       "      <th>radius1</th>\n",
       "      <th>texture1</th>\n",
       "      <th>perimeter1</th>\n",
       "      <th>area1</th>\n",
       "      <th>smoothness1</th>\n",
       "      <th>compactness1</th>\n",
       "      <th>concavity1</th>\n",
       "      <th>concave_points1</th>\n",
       "      <th>symmetry1</th>\n",
       "      <th>fractal_dimension1</th>\n",
       "      <th>...</th>\n",
       "      <th>radius3</th>\n",
       "      <th>texture3</th>\n",
       "      <th>perimeter3</th>\n",
       "      <th>area3</th>\n",
       "      <th>smoothness3</th>\n",
       "      <th>compactness3</th>\n",
       "      <th>concavity3</th>\n",
       "      <th>concave_points3</th>\n",
       "      <th>symmetry3</th>\n",
       "      <th>fractal_dimension3</th>\n",
       "    </tr>\n",
       "  </thead>\n",
       "  <tbody>\n",
       "    <tr>\n",
       "      <th>0</th>\n",
       "      <td>17.99</td>\n",
       "      <td>10.38</td>\n",
       "      <td>122.80</td>\n",
       "      <td>1001.0</td>\n",
       "      <td>0.11840</td>\n",
       "      <td>0.27760</td>\n",
       "      <td>0.3001</td>\n",
       "      <td>0.14710</td>\n",
       "      <td>0.2419</td>\n",
       "      <td>0.07871</td>\n",
       "      <td>...</td>\n",
       "      <td>25.38</td>\n",
       "      <td>17.33</td>\n",
       "      <td>184.60</td>\n",
       "      <td>2019.0</td>\n",
       "      <td>0.1622</td>\n",
       "      <td>0.6656</td>\n",
       "      <td>0.7119</td>\n",
       "      <td>0.2654</td>\n",
       "      <td>0.4601</td>\n",
       "      <td>0.11890</td>\n",
       "    </tr>\n",
       "    <tr>\n",
       "      <th>1</th>\n",
       "      <td>20.57</td>\n",
       "      <td>17.77</td>\n",
       "      <td>132.90</td>\n",
       "      <td>1326.0</td>\n",
       "      <td>0.08474</td>\n",
       "      <td>0.07864</td>\n",
       "      <td>0.0869</td>\n",
       "      <td>0.07017</td>\n",
       "      <td>0.1812</td>\n",
       "      <td>0.05667</td>\n",
       "      <td>...</td>\n",
       "      <td>24.99</td>\n",
       "      <td>23.41</td>\n",
       "      <td>158.80</td>\n",
       "      <td>1956.0</td>\n",
       "      <td>0.1238</td>\n",
       "      <td>0.1866</td>\n",
       "      <td>0.2416</td>\n",
       "      <td>0.1860</td>\n",
       "      <td>0.2750</td>\n",
       "      <td>0.08902</td>\n",
       "    </tr>\n",
       "    <tr>\n",
       "      <th>2</th>\n",
       "      <td>19.69</td>\n",
       "      <td>21.25</td>\n",
       "      <td>130.00</td>\n",
       "      <td>1203.0</td>\n",
       "      <td>0.10960</td>\n",
       "      <td>0.15990</td>\n",
       "      <td>0.1974</td>\n",
       "      <td>0.12790</td>\n",
       "      <td>0.2069</td>\n",
       "      <td>0.05999</td>\n",
       "      <td>...</td>\n",
       "      <td>23.57</td>\n",
       "      <td>25.53</td>\n",
       "      <td>152.50</td>\n",
       "      <td>1709.0</td>\n",
       "      <td>0.1444</td>\n",
       "      <td>0.4245</td>\n",
       "      <td>0.4504</td>\n",
       "      <td>0.2430</td>\n",
       "      <td>0.3613</td>\n",
       "      <td>0.08758</td>\n",
       "    </tr>\n",
       "    <tr>\n",
       "      <th>3</th>\n",
       "      <td>11.42</td>\n",
       "      <td>20.38</td>\n",
       "      <td>77.58</td>\n",
       "      <td>386.1</td>\n",
       "      <td>0.14250</td>\n",
       "      <td>0.28390</td>\n",
       "      <td>0.2414</td>\n",
       "      <td>0.10520</td>\n",
       "      <td>0.2597</td>\n",
       "      <td>0.09744</td>\n",
       "      <td>...</td>\n",
       "      <td>14.91</td>\n",
       "      <td>26.50</td>\n",
       "      <td>98.87</td>\n",
       "      <td>567.7</td>\n",
       "      <td>0.2098</td>\n",
       "      <td>0.8663</td>\n",
       "      <td>0.6869</td>\n",
       "      <td>0.2575</td>\n",
       "      <td>0.6638</td>\n",
       "      <td>0.17300</td>\n",
       "    </tr>\n",
       "    <tr>\n",
       "      <th>4</th>\n",
       "      <td>20.29</td>\n",
       "      <td>14.34</td>\n",
       "      <td>135.10</td>\n",
       "      <td>1297.0</td>\n",
       "      <td>0.10030</td>\n",
       "      <td>0.13280</td>\n",
       "      <td>0.1980</td>\n",
       "      <td>0.10430</td>\n",
       "      <td>0.1809</td>\n",
       "      <td>0.05883</td>\n",
       "      <td>...</td>\n",
       "      <td>22.54</td>\n",
       "      <td>16.67</td>\n",
       "      <td>152.20</td>\n",
       "      <td>1575.0</td>\n",
       "      <td>0.1374</td>\n",
       "      <td>0.2050</td>\n",
       "      <td>0.4000</td>\n",
       "      <td>0.1625</td>\n",
       "      <td>0.2364</td>\n",
       "      <td>0.07678</td>\n",
       "    </tr>\n",
       "  </tbody>\n",
       "</table>\n",
       "<p>5 rows × 30 columns</p>\n",
       "</div>"
      ]
     },
     "execution_count": 94,
     "metadata": {},
     "output_type": "execute_result"
    }
   ],
   "execution_count": 94
  },
  {
   "metadata": {
    "ExecuteTime": {
     "end_time": "2024-09-04T15:55:09.039870Z",
     "start_time": "2024-09-04T15:55:09.034351Z"
    }
   },
   "cell_type": "code",
   "source": [
    "print(\"Targets:\")\n",
    "targets.head()"
   ],
   "id": "d336c233926d2998",
   "outputs": [
    {
     "name": "stdout",
     "output_type": "stream",
     "text": [
      "Targets:\n"
     ]
    },
    {
     "data": {
      "text/plain": [
       "  Diagnosis\n",
       "0         M\n",
       "1         M\n",
       "2         M\n",
       "3         M\n",
       "4         M"
      ],
      "text/html": [
       "<div>\n",
       "<style scoped>\n",
       "    .dataframe tbody tr th:only-of-type {\n",
       "        vertical-align: middle;\n",
       "    }\n",
       "\n",
       "    .dataframe tbody tr th {\n",
       "        vertical-align: top;\n",
       "    }\n",
       "\n",
       "    .dataframe thead th {\n",
       "        text-align: right;\n",
       "    }\n",
       "</style>\n",
       "<table border=\"1\" class=\"dataframe\">\n",
       "  <thead>\n",
       "    <tr style=\"text-align: right;\">\n",
       "      <th></th>\n",
       "      <th>Diagnosis</th>\n",
       "    </tr>\n",
       "  </thead>\n",
       "  <tbody>\n",
       "    <tr>\n",
       "      <th>0</th>\n",
       "      <td>M</td>\n",
       "    </tr>\n",
       "    <tr>\n",
       "      <th>1</th>\n",
       "      <td>M</td>\n",
       "    </tr>\n",
       "    <tr>\n",
       "      <th>2</th>\n",
       "      <td>M</td>\n",
       "    </tr>\n",
       "    <tr>\n",
       "      <th>3</th>\n",
       "      <td>M</td>\n",
       "    </tr>\n",
       "    <tr>\n",
       "      <th>4</th>\n",
       "      <td>M</td>\n",
       "    </tr>\n",
       "  </tbody>\n",
       "</table>\n",
       "</div>"
      ]
     },
     "execution_count": 95,
     "metadata": {},
     "output_type": "execute_result"
    }
   ],
   "execution_count": 95
  },
  {
   "metadata": {},
   "cell_type": "markdown",
   "source": "As we can see, the dataset contains 30 features and 1 target variable. The target variable is a string variable with two classes: 'M' (Malignant) and 'B' (Benign). The features are as follows: radius, texture, perimeter, smoothness, compactnes, convacity, conclave_points, symmetry and fractal_dimension. All of the features are represented in numerical variables. The features are measured across three different sizes (1, 2, 3) providing a total of 30 features.",
   "id": "258fdca2c97ba0c4"
  },
  {
   "metadata": {},
   "cell_type": "markdown",
   "source": [
    "#### 2.3. Data Preprocessing\n",
    "\n",
    "According to the UC Irvine Machine Learning Repository, the dataset is clean and does not contain any missing values, so we don't need to perform any data cleaning operations."
   ],
   "id": "2803c0a9083d214c"
  },
  {
   "metadata": {},
   "cell_type": "markdown",
   "source": [
    "### 3. Data Preparation\n",
    "\n",
    "#### 3.1 Conversion of Target Variable\n",
    "\n",
    "Let's convert the target variable to a binary variable. We will convert 'M' to 1 and 'B' to 0, so it can be used in the kNN classifier. After the conversion, we will check the results."
   ],
   "id": "2d4ee7b50852f1da"
  },
  {
   "metadata": {
    "ExecuteTime": {
     "end_time": "2024-09-04T15:55:09.046797Z",
     "start_time": "2024-09-04T15:55:09.041380Z"
    }
   },
   "cell_type": "code",
   "source": [
    "# Convert target variable to binary\n",
    "targets[\"Diagnosis\"] = [1 if x == 'M' else 0 for x in targets[\"Diagnosis\"]]\n",
    "targets.head()"
   ],
   "id": "1cfa304cfb73052d",
   "outputs": [
    {
     "data": {
      "text/plain": [
       "   Diagnosis\n",
       "0          1\n",
       "1          1\n",
       "2          1\n",
       "3          1\n",
       "4          1"
      ],
      "text/html": [
       "<div>\n",
       "<style scoped>\n",
       "    .dataframe tbody tr th:only-of-type {\n",
       "        vertical-align: middle;\n",
       "    }\n",
       "\n",
       "    .dataframe tbody tr th {\n",
       "        vertical-align: top;\n",
       "    }\n",
       "\n",
       "    .dataframe thead th {\n",
       "        text-align: right;\n",
       "    }\n",
       "</style>\n",
       "<table border=\"1\" class=\"dataframe\">\n",
       "  <thead>\n",
       "    <tr style=\"text-align: right;\">\n",
       "      <th></th>\n",
       "      <th>Diagnosis</th>\n",
       "    </tr>\n",
       "  </thead>\n",
       "  <tbody>\n",
       "    <tr>\n",
       "      <th>0</th>\n",
       "      <td>1</td>\n",
       "    </tr>\n",
       "    <tr>\n",
       "      <th>1</th>\n",
       "      <td>1</td>\n",
       "    </tr>\n",
       "    <tr>\n",
       "      <th>2</th>\n",
       "      <td>1</td>\n",
       "    </tr>\n",
       "    <tr>\n",
       "      <th>3</th>\n",
       "      <td>1</td>\n",
       "    </tr>\n",
       "    <tr>\n",
       "      <th>4</th>\n",
       "      <td>1</td>\n",
       "    </tr>\n",
       "  </tbody>\n",
       "</table>\n",
       "</div>"
      ]
     },
     "execution_count": 96,
     "metadata": {},
     "output_type": "execute_result"
    }
   ],
   "execution_count": 96
  },
  {
   "metadata": {},
   "cell_type": "markdown",
   "source": [
    "The target variable has been successfully converted to a binary variable. The target variable now contains 1 for 'M' and 0 for 'B'.\n",
    "\n",
    "#### 3.2 Standardization of Features\n",
    "\n",
    "We will standardize the features so that they have a mean of 0 and a standard deviation of 1. This is important because the kNN algorithm is sensitive to the scale of the features. We will use the StandardScaler from the scikit-learn library to standardize the features."
   ],
   "id": "ff9eed41b7df36bf"
  },
  {
   "metadata": {
    "ExecuteTime": {
     "end_time": "2024-09-04T15:55:09.065338Z",
     "start_time": "2024-09-04T15:55:09.047805Z"
    }
   },
   "cell_type": "code",
   "source": [
    "from sklearn.preprocessing import StandardScaler\n",
    "from sklearn.model_selection import train_test_split\n",
    "from sklearn.neighbors import KNeighborsClassifier\n",
    "\n",
    "# Standardize the features\n",
    "scaler = StandardScaler()\n",
    "features_scaled = pd.DataFrame(scaler.fit_transform(features), columns=features.columns)\n",
    "features_scaled.head()"
   ],
   "id": "8eaa002cfc926d1d",
   "outputs": [
    {
     "data": {
      "text/plain": [
       "    radius1  texture1  perimeter1     area1  smoothness1  compactness1  \\\n",
       "0  1.097064 -2.073335    1.269934  0.984375     1.568466      3.283515   \n",
       "1  1.829821 -0.353632    1.685955  1.908708    -0.826962     -0.487072   \n",
       "2  1.579888  0.456187    1.566503  1.558884     0.942210      1.052926   \n",
       "3 -0.768909  0.253732   -0.592687 -0.764464     3.283553      3.402909   \n",
       "4  1.750297 -1.151816    1.776573  1.826229     0.280372      0.539340   \n",
       "\n",
       "   concavity1  concave_points1  symmetry1  fractal_dimension1  ...   radius3  \\\n",
       "0    2.652874         2.532475   2.217515            2.255747  ...  1.886690   \n",
       "1   -0.023846         0.548144   0.001392           -0.868652  ...  1.805927   \n",
       "2    1.363478         2.037231   0.939685           -0.398008  ...  1.511870   \n",
       "3    1.915897         1.451707   2.867383            4.910919  ... -0.281464   \n",
       "4    1.371011         1.428493  -0.009560           -0.562450  ...  1.298575   \n",
       "\n",
       "   texture3  perimeter3     area3  smoothness3  compactness3  concavity3  \\\n",
       "0 -1.359293    2.303601  2.001237     1.307686      2.616665    2.109526   \n",
       "1 -0.369203    1.535126  1.890489    -0.375612     -0.430444   -0.146749   \n",
       "2 -0.023974    1.347475  1.456285     0.527407      1.082932    0.854974   \n",
       "3  0.133984   -0.249939 -0.550021     3.394275      3.893397    1.989588   \n",
       "4 -1.466770    1.338539  1.220724     0.220556     -0.313395    0.613179   \n",
       "\n",
       "   concave_points3  symmetry3  fractal_dimension3  \n",
       "0         2.296076   2.750622            1.937015  \n",
       "1         1.087084  -0.243890            0.281190  \n",
       "2         1.955000   1.152255            0.201391  \n",
       "3         2.175786   6.046041            4.935010  \n",
       "4         0.729259  -0.868353           -0.397100  \n",
       "\n",
       "[5 rows x 30 columns]"
      ],
      "text/html": [
       "<div>\n",
       "<style scoped>\n",
       "    .dataframe tbody tr th:only-of-type {\n",
       "        vertical-align: middle;\n",
       "    }\n",
       "\n",
       "    .dataframe tbody tr th {\n",
       "        vertical-align: top;\n",
       "    }\n",
       "\n",
       "    .dataframe thead th {\n",
       "        text-align: right;\n",
       "    }\n",
       "</style>\n",
       "<table border=\"1\" class=\"dataframe\">\n",
       "  <thead>\n",
       "    <tr style=\"text-align: right;\">\n",
       "      <th></th>\n",
       "      <th>radius1</th>\n",
       "      <th>texture1</th>\n",
       "      <th>perimeter1</th>\n",
       "      <th>area1</th>\n",
       "      <th>smoothness1</th>\n",
       "      <th>compactness1</th>\n",
       "      <th>concavity1</th>\n",
       "      <th>concave_points1</th>\n",
       "      <th>symmetry1</th>\n",
       "      <th>fractal_dimension1</th>\n",
       "      <th>...</th>\n",
       "      <th>radius3</th>\n",
       "      <th>texture3</th>\n",
       "      <th>perimeter3</th>\n",
       "      <th>area3</th>\n",
       "      <th>smoothness3</th>\n",
       "      <th>compactness3</th>\n",
       "      <th>concavity3</th>\n",
       "      <th>concave_points3</th>\n",
       "      <th>symmetry3</th>\n",
       "      <th>fractal_dimension3</th>\n",
       "    </tr>\n",
       "  </thead>\n",
       "  <tbody>\n",
       "    <tr>\n",
       "      <th>0</th>\n",
       "      <td>1.097064</td>\n",
       "      <td>-2.073335</td>\n",
       "      <td>1.269934</td>\n",
       "      <td>0.984375</td>\n",
       "      <td>1.568466</td>\n",
       "      <td>3.283515</td>\n",
       "      <td>2.652874</td>\n",
       "      <td>2.532475</td>\n",
       "      <td>2.217515</td>\n",
       "      <td>2.255747</td>\n",
       "      <td>...</td>\n",
       "      <td>1.886690</td>\n",
       "      <td>-1.359293</td>\n",
       "      <td>2.303601</td>\n",
       "      <td>2.001237</td>\n",
       "      <td>1.307686</td>\n",
       "      <td>2.616665</td>\n",
       "      <td>2.109526</td>\n",
       "      <td>2.296076</td>\n",
       "      <td>2.750622</td>\n",
       "      <td>1.937015</td>\n",
       "    </tr>\n",
       "    <tr>\n",
       "      <th>1</th>\n",
       "      <td>1.829821</td>\n",
       "      <td>-0.353632</td>\n",
       "      <td>1.685955</td>\n",
       "      <td>1.908708</td>\n",
       "      <td>-0.826962</td>\n",
       "      <td>-0.487072</td>\n",
       "      <td>-0.023846</td>\n",
       "      <td>0.548144</td>\n",
       "      <td>0.001392</td>\n",
       "      <td>-0.868652</td>\n",
       "      <td>...</td>\n",
       "      <td>1.805927</td>\n",
       "      <td>-0.369203</td>\n",
       "      <td>1.535126</td>\n",
       "      <td>1.890489</td>\n",
       "      <td>-0.375612</td>\n",
       "      <td>-0.430444</td>\n",
       "      <td>-0.146749</td>\n",
       "      <td>1.087084</td>\n",
       "      <td>-0.243890</td>\n",
       "      <td>0.281190</td>\n",
       "    </tr>\n",
       "    <tr>\n",
       "      <th>2</th>\n",
       "      <td>1.579888</td>\n",
       "      <td>0.456187</td>\n",
       "      <td>1.566503</td>\n",
       "      <td>1.558884</td>\n",
       "      <td>0.942210</td>\n",
       "      <td>1.052926</td>\n",
       "      <td>1.363478</td>\n",
       "      <td>2.037231</td>\n",
       "      <td>0.939685</td>\n",
       "      <td>-0.398008</td>\n",
       "      <td>...</td>\n",
       "      <td>1.511870</td>\n",
       "      <td>-0.023974</td>\n",
       "      <td>1.347475</td>\n",
       "      <td>1.456285</td>\n",
       "      <td>0.527407</td>\n",
       "      <td>1.082932</td>\n",
       "      <td>0.854974</td>\n",
       "      <td>1.955000</td>\n",
       "      <td>1.152255</td>\n",
       "      <td>0.201391</td>\n",
       "    </tr>\n",
       "    <tr>\n",
       "      <th>3</th>\n",
       "      <td>-0.768909</td>\n",
       "      <td>0.253732</td>\n",
       "      <td>-0.592687</td>\n",
       "      <td>-0.764464</td>\n",
       "      <td>3.283553</td>\n",
       "      <td>3.402909</td>\n",
       "      <td>1.915897</td>\n",
       "      <td>1.451707</td>\n",
       "      <td>2.867383</td>\n",
       "      <td>4.910919</td>\n",
       "      <td>...</td>\n",
       "      <td>-0.281464</td>\n",
       "      <td>0.133984</td>\n",
       "      <td>-0.249939</td>\n",
       "      <td>-0.550021</td>\n",
       "      <td>3.394275</td>\n",
       "      <td>3.893397</td>\n",
       "      <td>1.989588</td>\n",
       "      <td>2.175786</td>\n",
       "      <td>6.046041</td>\n",
       "      <td>4.935010</td>\n",
       "    </tr>\n",
       "    <tr>\n",
       "      <th>4</th>\n",
       "      <td>1.750297</td>\n",
       "      <td>-1.151816</td>\n",
       "      <td>1.776573</td>\n",
       "      <td>1.826229</td>\n",
       "      <td>0.280372</td>\n",
       "      <td>0.539340</td>\n",
       "      <td>1.371011</td>\n",
       "      <td>1.428493</td>\n",
       "      <td>-0.009560</td>\n",
       "      <td>-0.562450</td>\n",
       "      <td>...</td>\n",
       "      <td>1.298575</td>\n",
       "      <td>-1.466770</td>\n",
       "      <td>1.338539</td>\n",
       "      <td>1.220724</td>\n",
       "      <td>0.220556</td>\n",
       "      <td>-0.313395</td>\n",
       "      <td>0.613179</td>\n",
       "      <td>0.729259</td>\n",
       "      <td>-0.868353</td>\n",
       "      <td>-0.397100</td>\n",
       "    </tr>\n",
       "  </tbody>\n",
       "</table>\n",
       "<p>5 rows × 30 columns</p>\n",
       "</div>"
      ]
     },
     "execution_count": 97,
     "metadata": {},
     "output_type": "execute_result"
    }
   ],
   "execution_count": 97
  },
  {
   "metadata": {},
   "cell_type": "markdown",
   "source": "The features have been successfully standardized. The features are now centered around 0 with a standard deviation of 1.",
   "id": "d0b150d14ca4c130"
  },
  {
   "metadata": {},
   "cell_type": "markdown",
   "source": [
    "#### 3.3 Train-Test Split\n",
    "\n",
    "We will split the data into a training set and a test set. We will use 80% of the data for training and 20% for testing. We will use the train_test_split function from the scikit-learn library to split the data."
   ],
   "id": "8b47414afdd12557"
  },
  {
   "metadata": {
    "ExecuteTime": {
     "end_time": "2024-09-04T15:55:09.070027Z",
     "start_time": "2024-09-04T15:55:09.065338Z"
    }
   },
   "cell_type": "code",
   "source": "features_train, features_test, targets_train, targets_test = train_test_split(features_scaled, targets, test_size=0.2, random_state=42)",
   "id": "27f987eb037e31b3",
   "outputs": [],
   "execution_count": 98
  },
  {
   "metadata": {},
   "cell_type": "markdown",
   "source": "The data has been successfully split into a training set and a test set. We will use the training set to train the kNN classifier and the test set to evaluate its performance.",
   "id": "a6fbe8595cd971d8"
  },
  {
   "metadata": {},
   "cell_type": "markdown",
   "source": [
    "#### 3.4 Evaluation Metrics\n",
    "\n",
    "Let's visualize the date to understand what the data looks like."
   ],
   "id": "f52c1ecc86293bc5"
  },
  {
   "metadata": {
    "ExecuteTime": {
     "end_time": "2024-09-04T16:01:25.868930Z",
     "start_time": "2024-09-04T16:01:25.738944Z"
    }
   },
   "cell_type": "code",
   "source": [
    "import matplotlib.pyplot as plt\n",
    "\n",
    "fig, ax = plt.subplots(figsize=(10, 5))\n",
    "\n",
    "colors = targets[\"Diagnosis\"].map({0: \"blue\", 1: \"orange\"})\n",
    "\n",
    "radius_mean = (features[\"radius1\"] + features[\"radius2\"] + features[\"radius3\"]) / 3\n",
    "texture_mean = (features[\"texture1\"] + features[\"texture2\"] + features[\"texture3\"]) / 3\n",
    "\n",
    "plt.scatter(radius_mean, texture_mean, c=colors, alpha=0.5)\n",
    "plt.title(\"Breast Cancer Diagnosis: Radius vs Texture\")\n",
    "\n",
    "plt.xlabel(\"Radius (mean)\")\n",
    "plt.ylabel(\"Texture (mean)\")\n",
    "\n",
    "plt.legend(handles=[\n",
    "    plt.Line2D([0], [0], marker='o', color='w', label='Malignant', markerfacecolor='orange', markersize=10),\n",
    "    plt.Line2D([0], [0], marker='o', color='w', label='Benign', markerfacecolor='blue', markersize=10)\n",
    "])\n",
    "\n",
    "plt.grid(True)\n",
    "\n",
    "plt.show()"
   ],
   "id": "37ed755389dc285b",
   "outputs": [
    {
     "data": {
      "text/plain": [
       "<Figure size 1000x500 with 1 Axes>"
      ],
      "image/png": "[encoded data removed]"
     },
     "metadata": {},
     "output_type": "display_data"
    }
   ],
   "execution_count": 109
  },
  {
   "metadata": {},
   "cell_type": "markdown",
   "source": [
    "### 4. Model Development\n",
    "\n",
    "#### 4.1 kNN Classifier\n",
    "\n",
    "Now we will create the kNN classifier and train it on the training data."
   ],
   "id": "e4105782cefd59e7"
  },
  {
   "metadata": {
    "ExecuteTime": {
     "end_time": "2024-09-04T16:10:05.271115Z",
     "start_time": "2024-09-04T16:10:05.253043Z"
    }
   },
   "cell_type": "code",
   "source": [
    "from sklearn.metrics import accuracy_score, precision_score, recall_score\n",
    "\n",
    "knn = KNeighborsClassifier(n_neighbors=5)\n",
    "knn.fit(features_train, targets_train[\"Diagnosis\"])\n",
    "\n",
    "targets_pred = knn.predict(features_test)\n",
    "accuracy_test = accuracy_score(targets_test[\"Diagnosis\"], targets_pred)\n",
    "print(f\"Accuracy: {accuracy_test * 100:.4f}%\")"
   ],
   "id": "781984f965cb9f77",
   "outputs": [
    {
     "name": "stdout",
     "output_type": "stream",
     "text": [
      "Accuracy: 94.7368%\n"
     ]
    }
   ],
   "execution_count": 121
  },
  {
   "metadata": {
    "ExecuteTime": {
     "end_time": "2024-09-04T16:10:09.237015Z",
     "start_time": "2024-09-04T16:10:09.215661Z"
    }
   },
   "cell_type": "code",
   "source": [
    "knn_8 = KNeighborsClassifier(n_neighbors=8)\n",
    "knn_8.fit(features_train, targets_train[\"Diagnosis\"])\n",
    "\n",
    "targets_pred_8 = knn_8.predict(features_test)\n",
    "accuracy_test_8 = accuracy_score(targets_test[\"Diagnosis\"], targets_pred_8)\n",
    "print(f\"Accuracy: {accuracy_test_8 * 100:.4f}%\")"
   ],
   "id": "c00f1f9a9751f865",
   "outputs": [
    {
     "name": "stdout",
     "output_type": "stream",
     "text": [
      "Accuracy: 95.6140%\n"
     ]
    }
   ],
   "execution_count": 122
  },
  {
   "metadata": {
    "ExecuteTime": {
     "end_time": "2024-09-04T16:10:10.055582Z",
     "start_time": "2024-09-04T16:10:10.037387Z"
    }
   },
   "cell_type": "code",
   "source": [
    "knn_16 = KNeighborsClassifier(n_neighbors=16)\n",
    "knn_16.fit(features_train, targets_train[\"Diagnosis\"])\n",
    "\n",
    "targets_pred_16 = knn_16.predict(features_test)\n",
    "accuracy_test_16 = accuracy_score(targets_test[\"Diagnosis\"], targets_pred_16)\n",
    "print(f\"Accuracy: {accuracy_test_16 * 100:.4f}%\")"
   ],
   "id": "dd0fba18b9f6a6e3",
   "outputs": [
    {
     "name": "stdout",
     "output_type": "stream",
     "text": [
      "Accuracy: 94.7368%\n"
     ]
    }
   ],
   "execution_count": 123
  },
  {
   "metadata": {},
   "cell_type": "code",
   "outputs": [],
   "execution_count": null,
   "source": "",
   "id": "b09cc503f21c80d3"
  }
 ],
 "metadata": {
  "kernelspec": {
   "display_name": "Python 3",
   "language": "python",
   "name": "python3"
  },
  "language_info": {
   "codemirror_mode": {
    "name": "ipython",
    "version": 2
   },
   "file_extension": ".py",
   "mimetype": "text/x-python",
   "name": "python",
   "nbconvert_exporter": "python",
   "pygments_lexer": "ipython2",
   "version": "2.7.6"
  }
 },
 "nbformat": 4,
 "nbformat_minor": 5
}
